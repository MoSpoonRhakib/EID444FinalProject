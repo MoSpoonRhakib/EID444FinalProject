{
 "cells": [
  {
   "cell_type": "markdown",
   "id": "174d79a2",
   "metadata": {},
   "source": [
    "Project Details and Goals\n",
    "\n",
    "Build a molecular dynamics simulation to study a solid-solid phase transition. Specifically, I am looking at the phase transition of pure metallic microstructures. I am specifically look at the phase transition of alpha-iron (BCC) to gamma-iron (FCC). This is done by applying a thermostat and study the qualitative structure changes over time. Need to use a visualization tool to physicaly see the simulation.\n",
    "\n",
    "\n",
    "PowerPoint Outline\n",
    "- Intro: Talk about iron - phase diagram\n",
    "- Applications of ferrite and austenite - properties - essentially why do these different phases exist\n",
    "- Crystal structures - Explain FCC and BCC - possible order parameters to explain the crystallinity\n",
    "- Methodology\n",
    "- What kind of particles - LJ? Embedded Atom Model?\n",
    "- JAXMD/HOO-MD/LAAMPS\n",
    "\n",
    "-Code Overview\n",
    "- Figure Out what ensemble to use (NPT vs NVT)\n",
    "\n",
    "\n",
    "Live Simulation\n",
    "- Am I able to do a quick live simulation using LJ particles or a different use case with nonmetal cases. Essentially I want to show the phase transition LIVE\n",
    "\n",
    "\n",
    "Goals\n",
    "- Exploration of MD tools, JAX-MD, LAMMPS, HOO-MD - figure out how to use the tools specificlaly for our MD simulation\n",
    "- Initializing a crystal structure\n",
    "- Apply a theromstat and visualize a phase transition using a visualization tool"
   ]
  },
  {
   "cell_type": "markdown",
   "id": "c47e3400",
   "metadata": {},
   "source": [
    "# Importing Libraries\n"
   ]
  },
  {
   "cell_type": "code",
   "execution_count": null,
   "id": "84832f51",
   "metadata": {},
   "outputs": [],
   "source": [
    "%pip install hoomd #Using HOOMD for simulations\n",
    "import numpy as np # For now we will use numpy \n",
    "import hoomd\n",
    "import hoomd.md as md"
   ]
  },
  {
   "cell_type": "markdown",
   "id": "69e195fe",
   "metadata": {},
   "source": [
    "# Initializing Ferrite Lattice (BCC)"
   ]
  },
  {
   "cell_type": "markdown",
   "id": "6a4d3742",
   "metadata": {},
   "source": [
    "Find parameters for Iron BCC structure"
   ]
  },
  {
   "cell_type": "code",
   "execution_count": null,
   "id": "a68d33be",
   "metadata": {},
   "outputs": [],
   "source": [
    "#First gonna do BCC lattice, but may transition to BCC or FCC later\n",
    "\n",
    "a = 2.86\n",
    "\n",
    "def generate_bcc_lattice(a=2.86, nx=5, ny=5, nz=5): #n-dimensions represents the number of unit cells\n",
    "    \"\"\"Generate a BCC latice\"\"\"\n",
    "    unit_cell = np.array([[0, 0, 0], [0.5, 0.5, 0.5]]) * a\n",
    "    lattice = []\n",
    "    for i in range(nx):\n",
    "        for j in range(ny):\n",
    "            for k in range(nz):\n",
    "                for pos in unit_cell:\n",
    "                    lattice.append(pos + a * np.array([i, j, k]))\n",
    "    return np.array(lattice)\n",
    "\n",
    "# Uses numpy for now, just want to see if it works then transition to jax for faster initial configuration"
   ]
  },
  {
   "cell_type": "markdown",
   "id": "e59d0e43",
   "metadata": {},
   "source": [
    "# HOOMD System Initialization"
   ]
  },
  {
   "cell_type": "code",
   "execution_count": null,
   "id": "c4176ca6",
   "metadata": {},
   "outputs": [],
   "source": [
    "#Use CPU first then transition to GPU\n",
    "\n",
    "# Lets HOOMD use CPU or GPU (depends on what you specify)\n",
    "hoomd.context.initialize(\"--mode=cpu\") #when I switch to GPU, use \"--mode=gpu\"\n",
    "\n",
    "#Generate positions for BCC structure\n",
    "n = 5 # Number of unit cells\n",
    "\n",
    "positions = generate_bcc_lattice(a=2.86, nx=n, ny=n, nz=n)\n",
    "\n",
    "#Create simulation box\n",
    "box_length = a * n\n",
    "\n",
    "frame = hoomd.data.make_snapshot(N=len(positions), box=hoomd.data.boxdim(Lx=box_length, Ly=box_length, Lz=box_length), particle_types=['Fe'])\n",
    "\n",
    "frame.partcles.position[:] = positions\n",
    "system = hoomd.init.read_snapshot(frame)\n"
   ]
  },
  {
   "cell_type": "markdown",
   "id": "5dcb2d33",
   "metadata": {},
   "source": [
    "# EAM Potential Setup"
   ]
  },
  {
   "cell_type": "markdown",
   "id": "c0973da4",
   "metadata": {},
   "source": [
    "https://hoomd-blue.readthedocs.io/en/v2.9.5/module-metal-pair.html - how to access EAM potential for Iron\n",
    "https://www.ctcms.nist.gov/potentials/system/Fe/#Fe - EAM potential data here\n",
    "\n",
    "Must add the file to the working directory containing information about the EAM paramaters for alpha-iron specifically"
   ]
  },
  {
   "cell_type": "code",
   "execution_count": null,
   "id": "a9448e84",
   "metadata": {},
   "outputs": [],
   "source": [
    "# EAM Potential Setup\n",
    "\n",
    "#Define neighbor list\n",
    "nlist = md.nlist.cell()\n",
    "\n",
    "#Create pair potential\n",
    "eam = hoomd.metal.pair.eam(file = 'Placeholder_Fefile', type='Alloy', nlist=nlist)\n",
    "eam.par_coeff.set('Fe', 'Fe')\n",
    "\n",
    "#Make sure I reaplce the filename once that is acquired\n",
    "\n",
    "\n",
    "\n"
   ]
  },
  {
   "cell_type": "markdown",
   "id": "4ec89940",
   "metadata": {},
   "source": [
    "# NPT Ensemble Setup\n"
   ]
  },
  {
   "cell_type": "code",
   "execution_count": null,
   "id": "2d8bdcaa",
   "metadata": {},
   "outputs": [],
   "source": [
    "#NPT Ensemble Setup\n",
    "\n",
    "npt = md.integrate.npt(group=hoomd.group.all(), \n",
    "                       kT=0.5,  # initial temperature in reduced units\n",
    "                       tau=1.0, \n",
    "                       P=1.0,  # atmospheric pressure\n",
    "                       tauP=10.0)\n",
    "\n",
    "\n",
    "#Integrator\n",
    "md.integrate.mode_standard(dt=0.005)\n",
    "#Explain further what the integrator does\n",
    "\n",
    "\n",
    "#Outpur file for OVITO\n",
    "hoomd.dump.gsd(\"ferrite_to_austenite.gsd\", period=1000, group=hoomd.group.all(), overwrite=True)\n"
   ]
  },
  {
   "cell_type": "code",
   "execution_count": null,
   "id": "b43384cb",
   "metadata": {},
   "outputs": [],
   "source": [
    "# Run Simulate with Gradually Increasing Temperature Ramp\n",
    "\n",
    "# Run at initial low temp (simulate ferrite equilibrium)\n",
    "hoomd.run(1_000_0)\n",
    "\n",
    "# Ramp temperature up to drive phase transition\n",
    "npt.set_params(kT=1.0)\n",
    "hoomd.run(10_000)\n",
    "\n",
    "npt.set_params(kT=1.5)\n",
    "hoomd.run(10_000)\n",
    "\n",
    "npt.set_params(kT=2.0)\n",
    "hoomd.run(10_000)"
   ]
  }
 ],
 "metadata": {
  "kernelspec": {
   "display_name": "base",
   "language": "python",
   "name": "python3"
  },
  "language_info": {
   "codemirror_mode": {
    "name": "ipython",
    "version": 3
   },
   "file_extension": ".py",
   "mimetype": "text/x-python",
   "name": "python",
   "nbconvert_exporter": "python",
   "pygments_lexer": "ipython3",
   "version": "3.12.4"
  }
 },
 "nbformat": 4,
 "nbformat_minor": 5
}
